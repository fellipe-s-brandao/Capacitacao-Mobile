{
  "nbformat": 4,
  "nbformat_minor": 0,
  "metadata": {
    "colab": {
      "provenance": [],
      "include_colab_link": true
    },
    "kernelspec": {
      "name": "python3",
      "display_name": "Python 3"
    },
    "language_info": {
      "name": "python"
    }
  },
  "cells": [
    {
      "cell_type": "markdown",
      "metadata": {
        "id": "view-in-github",
        "colab_type": "text"
      },
      "source": [
        "<a href=\"https://colab.research.google.com/github/fellipe-s-brandao/Capacitacao-Mobile/blob/main/Aula_2_Estruturas_de_Dados.ipynb\" target=\"_parent\"><img src=\"https://colab.research.google.com/assets/colab-badge.svg\" alt=\"Open In Colab\"/></a>"
      ]
    },
    {
      "cell_type": "markdown",
      "source": [
        "# Algoritmos em Grafos\n",
        "## Por: Mayron César O. Moreira\n",
        "## Departamento de Ciência da Computação\n",
        "## Instituto de Ciências Exatas e Tecnológicas\n",
        "## Universidade Federal de Lavras"
      ],
      "metadata": {
        "id": "qZjkVBnNs9nO"
      }
    },
    {
      "cell_type": "markdown",
      "source": [
        "## Estruturas de Dados"
      ],
      "metadata": {
        "id": "kv243ffcs_wN"
      }
    },
    {
      "cell_type": "markdown",
      "source": [
        "### Questão 1\n",
        "\n",
        "Considere um grafo direcionado $G=(V,E)$, representado por uma lista de adjacências, do seguinte tipo:\n",
        "\n",
        "```\n",
        "typedef vector<int> vi;\n",
        "vi* LA;\n",
        "```"
      ],
      "metadata": {
        "id": "0cjWvQxotBTx"
      }
    },
    {
      "cell_type": "markdown",
      "source": [
        "* Escreva uma função que dada uma lista de adjacências *LA*, o número de vértices de $G$, $n$, e um vértice $u \\in V$, retorne o grau de entrada e o grau de saída de $u$, representados por um *pair*. Como saída, imprima (para cada caso de teste) o vértice $u$, o grau de entrada e o grau de saída."
      ],
      "metadata": {
        "id": "dlKHQADpu_24"
      }
    },
    {
      "cell_type": "code",
      "source": [
        "%%writefile questao_grau.cpp\n",
        "#include<iostream>\n",
        "#include<vector>\n",
        "#include<utility>\n",
        "using namespace std;\n",
        "\n",
        "typedef vector<int> vi;\n",
        "typedef pair<int,int> ii;\n",
        "\n",
        "// Implemente sua resposta aqui\n",
        "ii retornaGrau(vi* LA, int n, int u)\n",
        "{\n",
        "  // first: grau de entrada; second: grau de saida\n",
        "  ii grau;\n",
        "\n",
        "  grau.first = 0;  \n",
        "  grau.second = LA[u].size();\n",
        "\n",
        "  for(int i = 0; i < n; i++) {\n",
        "    for(int j = 0; j < LA[i].size(); j++) {\n",
        "      if(LA[i][j] == u) {\n",
        "        grau.first ++;\n",
        "      }\n",
        "    }\n",
        "  }\n",
        "\n",
        "  return grau;\n",
        "}\n",
        "\n",
        "int main()\n",
        "{\n",
        "  int n, m;\n",
        "  cin >> n >> m;\n",
        "\n",
        "  while(!cin.eof())\n",
        "  {\n",
        "    // considerando que os índices dos vértices começam de 0 e vão até n-1\n",
        "    vi* LA = new vi[n];\n",
        "\n",
        "    // leitura do grafo\n",
        "    int u, v;\n",
        "    for(int i = 0; i < m; i++)\n",
        "    {\n",
        "      cin >> u >> v; // lendo as arestas do grafo\n",
        "\n",
        "      // grafo direcionado\n",
        "      LA[u].push_back(v); //u -> v\n",
        "    }\n",
        "\n",
        "    // escolhe aleatoriamente um vertice de 0 a n-1\n",
        "    int vertice = rand() % n;\n",
        "    ii grau = retornaGrau(LA, n, vertice);\n",
        "    cout << vertice << \" \" << grau.first << \" \" << grau.second << endl;\n",
        "  }\n",
        "\n",
        "  return 0;\n",
        "}"
      ],
      "metadata": {
        "colab": {
          "base_uri": "https://localhost:8080/"
        },
        "id": "ZolI8QM2vYx3",
        "outputId": "bf7b8402-dcab-4d53-ee8d-b811b1d22f2e"
      },
      "execution_count": 7,
      "outputs": [
        {
          "output_type": "stream",
          "name": "stdout",
          "text": [
            "Overwriting questao_grau.cpp\n"
          ]
        }
      ]
    },
    {
      "cell_type": "code",
      "source": [
        "%%script bash\n",
        "g++ questao_grau.cpp -o questao_grau\n",
        "echo -e \"5 6\\n0 1\\n0 3\\n1 4\\n2 0\\n3 1\\n4 3\\n4 5\\n1 0\\n1 2\\n1 3\\n2 0\\n2 3\\n\" > teste.in\n",
        "./questao_grau < teste.in"
      ],
      "metadata": {
        "id": "i4lrmNSly2BD",
        "outputId": "024d7228-8b8f-42c6-83a7-932a678d4e51",
        "colab": {
          "base_uri": "https://localhost:8080/"
        }
      },
      "execution_count": 8,
      "outputs": [
        {
          "output_type": "stream",
          "name": "stdout",
          "text": [
            "3 2 1\n",
            "1 0 3\n",
            "2 0 6\n"
          ]
        }
      ]
    },
    {
      "cell_type": "markdown",
      "source": [
        "* Quantas operações o seu algoritmo executa, no melhor e no pior caso, em termos do número de vértices do grafo ($n$) e/ou o número de arcos de $G$ (denotada por $m$)?"
      ],
      "metadata": {
        "id": "pJ0TuExF15U4"
      }
    },
    {
      "cell_type": "markdown",
      "source": [
        "### Questão 2\n",
        "\n",
        "Seja $G=(V,E)$ um grafo direcionado qualquer. Sabe-se que um grafo transposto $G^T=(V^T,E^T)$ de $G=(V,E)$ é definido por $V^T=V$ e $E^T=\\{(v,u); (u,v) \\in E, u,v \\in V\\}$."
      ],
      "metadata": {
        "id": "SuQgsqyh2L6R"
      }
    },
    {
      "cell_type": "markdown",
      "source": [
        "* Escreva uma função que dada uma matriz de adjacências *MA*, o número de vértices de $G$, $n$, imprima o seu respectivo grafo transposto $G^T$, representado por uma lista de adjacências (*LA*)."
      ],
      "metadata": {
        "id": "sJBrYRna3BXa"
      }
    },
    {
      "cell_type": "code",
      "source": [
        "%%writefile questao_transposto.cpp\n",
        "#include<iostream>\n",
        "#include<vector>\n",
        "using namespace std;\n",
        "\n",
        "typedef vector<int> vi;\n",
        "\n",
        "// Implemente sua resposta aqui\n",
        "vi* retornaTransposto(int** MA, int n)\n",
        "{\n",
        "  vi* LA = new vi[n];\n",
        "  \n",
        "  // TO DO\n",
        "\n",
        "  return LA;\n",
        "}\n",
        "\n",
        "int main()\n",
        "{\n",
        "  int n, m;\n",
        "  cin >> n >> m;\n",
        "\n",
        "  while(!cin.eof())\n",
        "  {\n",
        "    // considerando que os índices dos vértices começam de 0 e vão até n-1\n",
        "    int** MA = new int*[n];\n",
        "    for(int i = 0; i < n; i++)\n",
        "    {\n",
        "      MA[i] = new int[n];\n",
        "      for(int j = 0; j < n; j++)\n",
        "        MA[i][j] = 0;\n",
        "    }\n",
        "\n",
        "    // leitura do grafo\n",
        "    int u, v;\n",
        "    for(int i = 0; i < m; i++)\n",
        "    {\n",
        "      cin >> u >> v; // lendo as arestas do grafo\n",
        "\n",
        "      // grafo direcionado\n",
        "      MA[u][v] = 1; //u -> v\n",
        "    }\n",
        "\n",
        "    \n",
        "    vi* LA = retornaTransposto(MA, n);\n",
        "    for(int u = 0; u < n; u++)\n",
        "    {\n",
        "      for(int j = 0; j < LA[u].size(); j++)\n",
        "      {\n",
        "        int v = LA[u][j];\n",
        "        cout << v << \" \";\n",
        "      }\n",
        "      cout << endl;\n",
        "    }\n",
        "  }\n",
        "\n",
        "  return 0;\n",
        "}"
      ],
      "metadata": {
        "colab": {
          "base_uri": "https://localhost:8080/"
        },
        "id": "rATOlSQD3S8p",
        "outputId": "8044373a-5381-411b-85bc-9f9d1fb56e83"
      },
      "execution_count": null,
      "outputs": [
        {
          "output_type": "stream",
          "name": "stdout",
          "text": [
            "Overwriting questao2.cpp\n"
          ]
        }
      ]
    },
    {
      "cell_type": "code",
      "source": [
        "%%script bash\n",
        "g++ questao_transposto.cpp -o questao_transposto\n",
        "echo -e \"5 6\\n0 1\\n0 3\\n1 4\\n2 0\\n3 1\\n4 3\\n\" > teste.in\n",
        "./questao_transposto < teste.in"
      ],
      "metadata": {
        "id": "qJSXShXm4SLT"
      },
      "execution_count": null,
      "outputs": []
    },
    {
      "cell_type": "markdown",
      "source": [
        "* Quantas operações o seu algoritmo executa, no melhor e no pior caso, em termos do número de vértices do grafo ($n$) e/ou o número de arcos de $G$ (denotada por $m$)?"
      ],
      "metadata": {
        "id": "NxyPy1fy73fB"
      }
    },
    {
      "cell_type": "markdown",
      "source": [
        "### Questão 3\n",
        "\n",
        "Seja $G=(V,E)$ um grafo não direcionado qualquer representado por uma matriz de adjacência."
      ],
      "metadata": {
        "id": "aty-GTz75Ccn"
      }
    },
    {
      "cell_type": "markdown",
      "source": [
        "* Implemente uma função que dada a matriz de adjacência de $G$, retorne uma matriz de incidência, representando o mesmo grafo."
      ],
      "metadata": {
        "id": "rwH0TBOQ-Uqs"
      }
    },
    {
      "cell_type": "code",
      "source": [
        "%%writefile questao_mami.cpp\n",
        "#include<iostream>\n",
        "#include<vector>\n",
        "using namespace std;\n",
        "\n",
        "typedef vector<int> vi;\n",
        "\n",
        "// Implemente sua resposta aqui\n",
        "// m: numero de arestas do grafo\n",
        "int** MA_para_MI(int** MA, int n, int m)\n",
        "{\n",
        "  int** MI;\n",
        "  \n",
        "  // TO DO\n",
        "\n",
        "  return MI;\n",
        "}\n",
        "\n",
        "int main()\n",
        "{\n",
        "  int n, m;\n",
        "  cin >> n >> m;\n",
        "\n",
        "  while(!cin.eof())\n",
        "  {\n",
        "    // considerando que os índices dos vértices começam de 0 e vão até n-1\n",
        "    int** MA = new int*[n];\n",
        "    for(int i = 0; i < n; i++)\n",
        "    {\n",
        "      MA[i] = new int[n];\n",
        "      for(int j = 0; j < n; j++)\n",
        "        MA[i][j] = 0;\n",
        "    }\n",
        "\n",
        "    // leitura do grafo\n",
        "    int u, v;\n",
        "    for(int i = 0; i < m; i++)\n",
        "    {\n",
        "      cin >> u >> v; // lendo as arestas do grafo\n",
        "\n",
        "      // grafo nao-direcionado\n",
        "      MA[u][v] = MA[v][u] = 1; //u - v\n",
        "    }\n",
        "\n",
        "    /*\n",
        "    int** MI = MA_para_MI(MA, n, m);\n",
        "    for(int e = 0; e < m; e++)\n",
        "    {\n",
        "      for(int u = 0; u < n; u++)\n",
        "      {\n",
        "        cout << MI[e][u] << \" \";\n",
        "      }\n",
        "      cout << endl;\n",
        "    }\n",
        "    */\n",
        "  }\n",
        "\n",
        "  return 0;\n",
        "}"
      ],
      "metadata": {
        "colab": {
          "base_uri": "https://localhost:8080/"
        },
        "id": "Z44VuOyl-c3t",
        "outputId": "c55932c3-3638-4255-83a5-b90d90b771db"
      },
      "execution_count": null,
      "outputs": [
        {
          "output_type": "stream",
          "name": "stdout",
          "text": [
            "Overwriting questao4.cpp\n"
          ]
        }
      ]
    },
    {
      "cell_type": "code",
      "source": [
        "%%script bash\n",
        "g++ questao_mami.cpp -o questao_mami\n",
        "echo -e \"5 6\\n0 1\\n0 3\\n1 4\\n2 0\\n3 1\\n4 3\\n\" > teste.in\n",
        "./questao_mami < teste.in"
      ],
      "metadata": {
        "id": "Uagbyvmw-dAL"
      },
      "execution_count": null,
      "outputs": []
    },
    {
      "cell_type": "markdown",
      "source": [
        "* Quantas operações o seu algoritmo executa, no melhor e no pior caso, em termos do número de vértices do grafo ($n$) e/ou o número de arestas de $G$ (denotada por $m$)?"
      ],
      "metadata": {
        "id": "9KnjkKx9-dR3"
      }
    },
    {
      "cell_type": "markdown",
      "source": [
        "### Questão 4\n",
        "\n",
        "Seja $G=(V,E)$ um grafo não direcionado ponderado qualquer representado por uma lista de adjacência."
      ],
      "metadata": {
        "id": "rp5AABC45EID"
      }
    },
    {
      "cell_type": "markdown",
      "source": [
        "* Implemente uma função que dada a lista de adjacência de $G$, retorne uma lista de arestas, representando o mesmo grafo."
      ],
      "metadata": {
        "id": "6WrilV59_dF6"
      }
    },
    {
      "cell_type": "code",
      "source": [
        "%%writefile questao_lalar.cpp\n",
        "#include<iostream>\n",
        "#include<vector>\n",
        "#include<utility>\n",
        "using namespace std;\n",
        "\n",
        "typedef pair<int,int> ii;\n",
        "typedef vector<ii> vii;\n",
        "\n",
        "// Implemente sua resposta aqui\n",
        "// Em cada elemento do vector, o first representa o peso da aresta, e o second um outro pair, indicando a aresta\n",
        "vector<pair<int, ii>> LA_para_LAr(vii* LA, int n)\n",
        "{\n",
        "  // first: peso; second: aresta\n",
        "  vector<pair<int,ii>> LAr;\n",
        "  \n",
        "  // TO DO\n",
        "\n",
        "  return LAr;\n",
        "}\n",
        "\n",
        "int main()\n",
        "{\n",
        "  int n, m;\n",
        "  cin >> n >> m;\n",
        "\n",
        "  while(!cin.eof())\n",
        "  {\n",
        "    // considerando que os índices dos vértices começam de 0 e vão até n-1\n",
        "    vii* LA = new vii[n];\n",
        "\n",
        "    // leitura do grafo\n",
        "    int u, v, w;\n",
        "    for(int i = 0; i < m; i++)\n",
        "    {\n",
        "      // w: peso da aresta (u,v)\n",
        "      cin >> u >> v >> w; // lendo as arestas do grafo\n",
        "\n",
        "      // grafo nao-direcionado\n",
        "      //u - v\n",
        "      LA[u].push_back(make_pair(v, w)); \n",
        "      LA[v].push_back(make_pair(u, w)); \n",
        "    }\n",
        "\n",
        "    // lista de arestas\n",
        "    vector<pair<int, ii>> LAr;\n",
        "    LAr = LA_para_LAr(LA, n);\n",
        "\n",
        "    // imprimindo a lista por iterator\n",
        "    for(auto it = LAr.begin(); it != LAr.end(); ++it)\n",
        "      cout << \"(\" << (*it).second.first << \",\" << (*it).second.second << \")[\" << (*it).first << \"]\\t\";\n",
        "    cout << endl;\n",
        "  }\n",
        "\n",
        "  return 0;\n",
        "}"
      ],
      "metadata": {
        "colab": {
          "base_uri": "https://localhost:8080/"
        },
        "id": "Opnh6hC3_l9f",
        "outputId": "544aa2f9-67a8-427b-d36b-f63aae67ed1b"
      },
      "execution_count": null,
      "outputs": [
        {
          "output_type": "stream",
          "name": "stdout",
          "text": [
            "Overwriting questao5.cpp\n"
          ]
        }
      ]
    },
    {
      "cell_type": "code",
      "source": [
        "%%script bash\n",
        "g++ questao_lalar.cpp -o questao_lalar\n",
        "echo -e \"4 3\\n0 2 10\\n1 2 5\\n2 3 5\\n4 4\\n0 1 2\\n0 2 1\\n1 4 3\\n2 4 8\\n\" > teste.in\n",
        "./questao_lalar < teste.in"
      ],
      "metadata": {
        "colab": {
          "base_uri": "https://localhost:8080/"
        },
        "id": "T77cg2-jBGQV",
        "outputId": "32d12f8d-055e-4bfc-e393-4bdad0b97f03"
      },
      "execution_count": null,
      "outputs": [
        {
          "output_type": "stream",
          "name": "stdout",
          "text": [
            "\n",
            "\n",
            "\n"
          ]
        }
      ]
    },
    {
      "cell_type": "markdown",
      "source": [
        "* Quantas operações o seu algoritmo executa, no melhor e no pior caso, em termos do número de vértices do grafo ($n$) e/ou o número de arestas de $G$ (denotada por $m$)?"
      ],
      "metadata": {
        "id": "9XqqV3gXBGcP"
      }
    }
  ]
}